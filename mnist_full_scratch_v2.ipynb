{
 "cells": [
  {
   "cell_type": "markdown",
   "id": "3941545a-d7ce-4cfc-9cc9-cac12519efdf",
   "metadata": {},
   "source": [
    "# MNIST DIGIT CLASSIFIER\n",
    "A simple 2 hidden layer learner class made for recognizing MNIST digits between 0 and 9\n",
    "\n",
    "All neural network code was created from scratch with no machine learning specific libraries\n",
    "\n",
    "PyTorch tensors were used as the data storage and data matrix representations of choice to speed up calculations and to enable training on a GPU\n",
    "\n",
    "FastAI was used to download and open the MNIST dataset\n",
    "\n",
    "PyTorch .backward() and .requires_grad_() were used to obtain the graditents needed to execute batch gradient descent.\n",
    "\n",
    "All other code was written from scratch by Sasha Kiselev with inspiration and explanation from \"Practical Deep Learning for Coders\" by Jeremy Howard"
   ]
  },
  {
   "cell_type": "code",
   "execution_count": 1,
   "id": "61cafa31-fea0-4a9a-a0ec-9e1e1f82981c",
   "metadata": {},
   "outputs": [],
   "source": [
    "from fastai.vision.all import *\n",
    "path = untar_data(URLs.MNIST)\n",
    "Path.BASE_PATH = path"
   ]
  },
  {
   "cell_type": "code",
   "execution_count": 2,
   "id": "62d83885-2214-48f2-8de8-66204ce28aeb",
   "metadata": {},
   "outputs": [
    {
     "data": {
      "text/plain": [
       "((#10) [Path('training/0'),Path('training/1'),Path('training/2'),Path('training/3'),Path('training/4'),Path('training/5'),Path('training/6'),Path('training/7'),Path('training/8'),Path('training/9')],\n",
       " (#10) [Path('testing/0'),Path('testing/1'),Path('testing/2'),Path('testing/3'),Path('testing/4'),Path('testing/5'),Path('testing/6'),Path('testing/7'),Path('testing/8'),Path('testing/9')])"
      ]
     },
     "execution_count": 2,
     "metadata": {},
     "output_type": "execute_result"
    }
   ],
   "source": [
    "train_paths = (path/'training').ls().sorted()\n",
    "valid_paths = (path/'testing').ls().sorted()\n",
    "train_paths, valid_paths"
   ]
  },
  {
   "cell_type": "markdown",
   "id": "14e18509-f746-4aab-9592-951e0870ca73",
   "metadata": {},
   "source": [
    "#### Dataloader creation - should be changed to have all categories"
   ]
  },
  {
   "cell_type": "code",
   "execution_count": 3,
   "id": "c8f26146-8397-4dd2-9f50-e7e4d6692b00",
   "metadata": {},
   "outputs": [],
   "source": [
    "train_x_lst = [tensor(Image.open(file)) for cat in train_paths for file in cat.ls()]\n",
    "train_x_tns = torch.stack(train_x_lst)\n",
    "# change rank 3 tns to rank 2 tns so that each example is 1 row\n",
    "train_x_tns = train_x_tns.view(-1, 28*28)\n",
    "# normalize all greyscale values\n",
    "train_x_tns = train_x_tns.float()/255  "
   ]
  },
  {
   "cell_type": "code",
   "execution_count": 4,
   "id": "fe76424c-e302-4564-a74a-f699c4d8d4d9",
   "metadata": {},
   "outputs": [
    {
     "data": {
      "text/plain": [
       "<AxesSubplot:>"
      ]
     },
     "execution_count": 4,
     "metadata": {},
     "output_type": "execute_result"
    },
    {
     "data": {
      "image/png": "[encoded data removed]",
      "text/plain": [
       "<Figure size 72x72 with 1 Axes>"
      ]
     },
     "metadata": {
      "needs_background": "light"
     },
     "output_type": "display_data"
    }
   ],
   "source": [
    "show_image(train_x_tns[55000].view(28,28), cmap='Greys')"
   ]
  },
  {
   "cell_type": "code",
   "execution_count": 5,
   "id": "6938de8a-0b5e-4936-9696-cabb7bbaceff",
   "metadata": {},
   "outputs": [],
   "source": [
    "valid_x_lst = [tensor(Image.open(file)) for cat in valid_paths for file in cat.ls()]\n",
    "valid_x_tns = torch.stack(valid_x_lst)\n",
    "# change rank 3 tns to rank 2 tns so that each example is 1 row\n",
    "valid_x_tns = valid_x_tns.view(-1, 28*28)\n",
    "# normalize all greyscale values\n",
    "valid_x_tns = valid_x_tns.float()/255 "
   ]
  },
  {
   "cell_type": "code",
   "execution_count": 6,
   "id": "304f9062-d48e-4c0e-a362-44896a45a3bf",
   "metadata": {},
   "outputs": [
    {
     "data": {
      "text/plain": [
       "<AxesSubplot:>"
      ]
     },
     "execution_count": 6,
     "metadata": {},
     "output_type": "execute_result"
    },
    {
     "data": {
      "image/png": "[encoded data removed]",
      "text/plain": [
       "<Figure size 72x72 with 1 Axes>"
      ]
     },
     "metadata": {
      "needs_background": "light"
     },
     "output_type": "display_data"
    }
   ],
   "source": [
    "show_image(valid_x_tns[6000].view(28,28), cmap='Greys')"
   ]
  },
  {
   "cell_type": "code",
   "execution_count": 7,
   "id": "8242f27e-b2bf-4928-b5f6-893b690672e9",
   "metadata": {},
   "outputs": [],
   "source": [
    "train_counts = [len(cat_path.ls()) for cat_path in train_paths]\n",
    "valid_counts = [len(cat_path.ls()) for cat_path in valid_paths]"
   ]
  },
  {
   "cell_type": "code",
   "execution_count": 8,
   "id": "ecb33878-1c76-42cf-8471-b48a366b0e3e",
   "metadata": {},
   "outputs": [],
   "source": [
    "# make tensors of labels. As x is in order, labels also in order and depend only on the count \n",
    "# of examples in the folder, unsqueeze is needed to make it same rank as x\n",
    "train_y_tns = L([])\n",
    "for i, count in enumerate(train_counts):\n",
    "    train_y_tns += L([i] * count)\n",
    "train_y_tns = tensor(train_y_tns).unsqueeze(1)\n",
    "\n",
    "valid_y_tns = L([])\n",
    "for i, count in enumerate(valid_counts):\n",
    "    valid_y_tns += L([i] * count)\n",
    "valid_y_tns = tensor(valid_y_tns).unsqueeze(1)"
   ]
  },
  {
   "cell_type": "code",
   "execution_count": 9,
   "id": "c3a7290c-3efb-4913-aa1b-190ddf69f9d8",
   "metadata": {},
   "outputs": [],
   "source": [
    "train_dset = list(zip(train_x_tns, train_y_tns))\n",
    "valid_dset = list(zip(valid_x_tns, valid_y_tns))"
   ]
  },
  {
   "cell_type": "code",
   "execution_count": 10,
   "id": "8f6a5ada-dbe7-4c43-8f51-f00fd225f2fc",
   "metadata": {},
   "outputs": [],
   "source": [
    "train_dl = DataLoader(train_dset, bs=256, shuffle=True)\n",
    "valid_dl = DataLoader(valid_dset, bs=256, shuffle=True)"
   ]
  },
  {
   "cell_type": "markdown",
   "id": "e0c006f8-33de-4421-a7a3-07334acafaf8",
   "metadata": {},
   "source": [
    "#### Model"
   ]
  },
  {
   "cell_type": "code",
   "execution_count": 11,
   "id": "c3a1a08b-f36f-4188-a04d-753a82cf9f77",
   "metadata": {},
   "outputs": [],
   "source": [
    "def softmax(x):\n",
    "    x = torch.exp(x)\n",
    "    sum_exp = x.sum(dim = 1, keepdims = True)\n",
    "    return x / sum_exp"
   ]
  },
  {
   "cell_type": "code",
   "execution_count": 53,
   "id": "56157c2f-8925-4eec-9d71-08e23366cbe4",
   "metadata": {},
   "outputs": [],
   "source": [
    "def tanh(x):\n",
    "    return (torch.exp(2*x) - 1) / (torch.exp(2*x) + 1)"
   ]
  },
  {
   "cell_type": "code",
   "execution_count": 43,
   "id": "71ca97ee-124a-46e0-bf8f-57775e388362",
   "metadata": {},
   "outputs": [],
   "source": [
    "class TwoHLLearner:\n",
    "    \n",
    "    def __init__(self, dls, n_hs, n_cat, lr=0.65): \n",
    "        # dls - tuple of train dataloader and valid dataloader respectivly\n",
    "        # n_hs tuple neurons in hidden layer 1 and 2 respectivly\n",
    "        n_h1, n_h2 = n_hs\n",
    "        self.train_dl, self.valid_dl = dls\n",
    "        self.lr = lr\n",
    "        \n",
    "        \n",
    "        \n",
    "        # initialize all parameters of the model and save them for tuple for easy passing\n",
    "        self.w1, self.b1 = self.init_param((28*28, n_h1)), self.init_param((1, n_h1))\n",
    "        self.w2, self.b2 = self.init_param((n_h1, n_h2)), self.init_param((1, n_h2))\n",
    "        self.w3, self.b3 = self.init_param((n_h2, n_cat)), self.init_param((1))\n",
    "        self.params = self.w1, self.b1, self.w2, self.b2, self.w3, self.b3\n",
    "    \n",
    "    def init_param(self, shape, scale=0.1): \n",
    "        return (torch.randn(shape) * scale).requires_grad_()\n",
    "    \n",
    "    def fit(self, num_epochs):\n",
    "        for i in range(num_epochs):\n",
    "            self.train_epoch()\n",
    "            \n",
    "    def train_epoch(self):\n",
    "        for xb, yb in self.train_dl:\n",
    "            # make prediction and get gradient of all parameters\n",
    "            pred = self.model(xb)\n",
    "            loss = self.loss_cross_ent(pred, yb)\n",
    "            loss.backward()\n",
    "            # update parameters and make sure to reset grad back to zero \n",
    "            # as grad adds up\n",
    "            for p in self.params:\n",
    "                p.data -= self.lr * p.grad\n",
    "                if torch.isnan(p.max()):  # check and stop network if gradient explodes\n",
    "                    print(loss, pred, xb)\n",
    "                    print(p, p.grad)\n",
    "                    raise ValueError(\"NaN found, breaking\")\n",
    "                p.grad.zero_()\n",
    "        print(self.valid_acc(), end = \"% \")\n",
    "        #print(self.w1.max().item(), self.w2.max().item(), self.w3.max().item())\n",
    "        \n",
    "    def model(self, xb): \n",
    "        # basic linear relu linear relu model\n",
    "        res = (xb @ self.w1 + self.b1).max(tensor(0.))\n",
    "        res = (res @ self.w2 + self.b2).max(tensor(0.))\n",
    "        res = tanh(res @ self.w3 + self.b3) # added to prevent exploding gradients\n",
    "        return res\n",
    "    \n",
    "    def loss_binary(self, pred, target): \n",
    "        pred = pred.sigmoid()\n",
    "        return torch.where(target == 1, 1 - pred, pred).mean()\n",
    "    \n",
    "    def loss_cross_ent(self, pred, target, epsilon=1e-8):\n",
    "        pred = softmax(pred)\n",
    "        targets = torch.zeros(pred.shape)\n",
    "        indicies = torch.arange(pred.shape[0]), target.view(target.shape[0])\n",
    "        values = torch.ones(pred.shape[0])\n",
    "        targets.index_put_(indicies, values)\n",
    "        return abs(targets - pred + epsilon).mean() # epsilon added to prevent everything being 0\n",
    "                                \n",
    "    def loss_mse(self, pred, target):\n",
    "        pass\n",
    "    def valid_loss(self):\n",
    "        loss = 0.\n",
    "        for xb, yb in self.valid_dl:\n",
    "            pred = self.model(xb)\n",
    "            loss += self.loss_multi(pred, yb)\n",
    "        return loss\n",
    "    \n",
    "    def valid_acc(self):\n",
    "        batch_accs = []\n",
    "        for xb, yb in self.valid_dl:\n",
    "            pred = self.model(xb)\n",
    "            pred = pred.max(dim=1)[1]\n",
    "            corrects = torch.where(pred == yb.view(yb.shape[0]), 1., 0.)\n",
    "            batch_accs.append(corrects.mean())\n",
    "        return round((tensor(batch_accs).mean().item() * 100), 2)"
   ]
  },
  {
   "cell_type": "code",
   "execution_count": 44,
   "id": "071818c8-4a62-4afc-b547-a47306b30613",
   "metadata": {},
   "outputs": [],
   "source": [
    "learner = TwoHLLearner((train_dl, valid_dl), (32, 16), 10)"
   ]
  },
  {
   "cell_type": "code",
   "execution_count": 45,
   "id": "6be53729-0026-45e7-baad-248981e1895d",
   "metadata": {},
   "outputs": [
    {
     "name": "stdout",
     "output_type": "stream",
     "text": [
      "22.1% 49.6% 61.97% 74.0% 79.54% 83.63% 85.61% 87.02% 88.13% 88.6% 89.04% 89.68% 89.57% 90.09% 90.59% 90.79% 91.14% 91.2% 91.53% 91.62% 91.92% 91.62% 91.89% 91.6% 91.92% 92.35% 92.47% 92.33% 92.51% 92.73% 92.67% 92.34% 92.84% 92.92% 92.87% 93.1% 93.11% 93.22% 93.23% 93.17% 93.29% 93.13% 93.26% 93.52% 93.58% 93.14% 93.35% 93.59% 93.47% 93.43% 93.78% 93.61% 93.62% 93.97% 93.9% 93.74% 93.95% 94.07% 94.16% 94.16% 93.96% 93.94% 93.99% 94.2% 94.27% 94.2% 94.36% 94.42% 94.1% 94.26% 94.44% 94.07% 94.54% 94.06% 94.57% 94.2% 94.39% 94.58% 94.6% 94.48% 94.39% 94.51% 94.52% 93.96% 94.43% 94.78% 94.58% 94.82% 94.66% 94.84% 94.89% 94.79% 94.77% 94.85% 94.76% 94.73% 94.93% 94.74% 94.94% 94.83% 94.66% 94.86% 95.08% 95.0% 94.62% 95.05% 94.94% 95.05% 95.05% 94.96% 95.04% 94.79% 95.11% 95.1% 94.86% 95.18% 95.13% 94.98% 95.16% 95.13% 95.0% 95.14% 95.17% 95.02% 95.18% 95.19% 94.95% 94.88% 94.79% 95.09% 95.2% 95.12% 95.06% 95.0% 95.01% 95.26% 95.3% 95.05% 95.27% 95.18% 95.08% 95.26% 95.07% 95.35% 95.35% 95.21% 95.35% 95.05% 95.29% 95.24% 95.37% 95.31% 95.42% 95.37% 95.25% 95.03% 95.46% 95.33% 95.34% 95.4% 95.34% 95.54% 95.56% 95.41% 95.45% 95.56% 95.58% 95.58% 95.62% 95.58% 95.63% 95.62% 95.63% 95.49% 95.49% 95.37% 95.68% 95.38% 95.68% 95.51% 95.38% 95.56% 95.64% 95.61% 95.56% 95.68% 95.39% 95.68% 95.56% 95.42% 95.76% 95.71% 95.57% 95.75% 95.29% 95.74% 95.52% 95.78% 95.68% 95.79% 95.74% 95.63% 95.76% 95.76% 95.75% 95.7% 95.71% 95.48% 95.7% 95.56% 95.64% 95.76% 95.7% 95.73% 95.63% 95.83% 95.81% 95.84% 95.64% 95.73% 95.83% 95.74% 95.38% 95.56% 95.79% 95.35% 95.7% 95.78% 95.79% 95.84% 95.5% 95.66% 95.58% 95.86% 95.84% 95.86% 95.66% 95.85% 95.56% 95.67% 95.7% 95.89% 95.83% 95.85% 95.85% 95.69% 95.82% 95.39% 95.66% 95.66% 95.9% 95.83% 95.69% 95.7% 95.86% 95.92% "
     ]
    }
   ],
   "source": [
    "learner.fit(256)"
   ]
  },
  {
   "cell_type": "markdown",
   "id": "74c447d9-2966-4d69-b913-1b80159f4a82",
   "metadata": {},
   "source": [
    "Sometimes the model gets stuck around 80% accuracy on validation data, but most of the time with this training it is about to get to 95%-96% accuracy. After a succesful training run getting 95.95% I saved the model parameters to a text file for import into the inferer."
   ]
  },
  {
   "cell_type": "markdown",
   "id": "3906fe56-afe4-46ae-bd42-1b7aec6a89c0",
   "metadata": {},
   "source": [
    "#### Save model parameters to a file to be used for the inferer"
   ]
  },
  {
   "cell_type": "code",
   "execution_count": 49,
   "id": "fd5a5900-fbc0-4b24-8fe3-36579614cd24",
   "metadata": {},
   "outputs": [],
   "source": [
    "torch.save(learner.params, \"95.92%_acc_parameters.pt\")"
   ]
  }
 ],
 "metadata": {
  "environment": {
   "name": "pytorch-gpu.1-9.m81",
   "type": "gcloud",
   "uri": "gcr.io/deeplearning-platform-release/pytorch-gpu.1-9:m81"
  },
  "kernelspec": {
   "display_name": "Python [conda env:root] *",
   "language": "python",
   "name": "conda-root-py"
  },
  "language_info": {
   "codemirror_mode": {
    "name": "ipython",
    "version": 3
   },
   "file_extension": ".py",
   "mimetype": "text/x-python",
   "name": "python",
   "nbconvert_exporter": "python",
   "pygments_lexer": "ipython3",
   "version": "3.7.10"
  }
 },
 "nbformat": 4,
 "nbformat_minor": 5
}
