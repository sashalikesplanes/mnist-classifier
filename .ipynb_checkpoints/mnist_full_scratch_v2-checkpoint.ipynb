{
 "cells": [
  {
   "cell_type": "markdown",
   "id": "3941545a-d7ce-4cfc-9cc9-cac12519efdf",
   "metadata": {},
   "source": [
    "# MNIST DIGIT CLASSIFIER\n",
    "A simple 2 hidden layer learner class made for recognizing MNIST digits between 0 and 9\n",
    "\n",
    "All neural network code was created from scratch with no machine learning specific libraries\n",
    "\n",
    "PyTorch tensors were used as the data storage and data matrix representations of choice to speed up calculations and to enable training on a GPU\n",
    "\n",
    "FastAI was used to download and open the MNIST dataset\n",
    "\n",
    "PyTorch .backward() and .requires_grad_() were used to obtain the graditents needed to execute batch gradient descent.\n",
    "\n",
    "All other code was written from scratch by Sasha Kiselev with inspiration and explanation from \"Practical Deep Learning for Coders\" by Jeremy Howard"
   ]
  },
  {
   "cell_type": "code",
   "execution_count": 1,
   "id": "61cafa31-fea0-4a9a-a0ec-9e1e1f82981c",
   "metadata": {},
   "outputs": [],
   "source": [
    "from fastai.vision.all import *\n",
    "path = untar_data(URLs.MNIST)\n",
    "Path.BASE_PATH = path"
   ]
  },
  {
   "cell_type": "code",
   "execution_count": 2,
   "id": "62d83885-2214-48f2-8de8-66204ce28aeb",
   "metadata": {},
   "outputs": [
    {
     "data": {
      "text/plain": [
       "((#10) [Path('training/0'),Path('training/1'),Path('training/2'),Path('training/3'),Path('training/4'),Path('training/5'),Path('training/6'),Path('training/7'),Path('training/8'),Path('training/9')],\n",
       " (#10) [Path('testing/0'),Path('testing/1'),Path('testing/2'),Path('testing/3'),Path('testing/4'),Path('testing/5'),Path('testing/6'),Path('testing/7'),Path('testing/8'),Path('testing/9')])"
      ]
     },
     "execution_count": 2,
     "metadata": {},
     "output_type": "execute_result"
    }
   ],
   "source": [
    "train_paths = (path/'training').ls().sorted()\n",
    "valid_paths = (path/'testing').ls().sorted()\n",
    "train_paths, valid_paths"
   ]
  },
  {
   "cell_type": "markdown",
   "id": "14e18509-f746-4aab-9592-951e0870ca73",
   "metadata": {},
   "source": [
    "#### Dataloader creation - should be changed to have all categories"
   ]
  },
  {
   "cell_type": "code",
   "execution_count": 3,
   "id": "c8f26146-8397-4dd2-9f50-e7e4d6692b00",
   "metadata": {},
   "outputs": [],
   "source": [
    "train_x_lst = [tensor(Image.open(file)) for cat in train_paths for file in cat.ls()]\n",
    "train_x_tns = torch.stack(train_x_lst)\n",
    "# change rank 3 tns to rank 2 tns so that each example is 1 row\n",
    "train_x_tns = train_x_tns.view(-1, 28*28)\n",
    "# normalize all greyscale values\n",
    "train_x_tns = train_x_tns.float()/255  "
   ]
  },
  {
   "cell_type": "code",
   "execution_count": 4,
   "id": "fe76424c-e302-4564-a74a-f699c4d8d4d9",
   "metadata": {},
   "outputs": [
    {
     "data": {
      "text/plain": [
       "<AxesSubplot:>"
      ]
     },
     "execution_count": 4,
     "metadata": {},
     "output_type": "execute_result"
    },
    {
     "data": {
      "image/png": "[encoded data removed]",
      "text/plain": [
       "<Figure size 72x72 with 1 Axes>"
      ]
     },
     "metadata": {
      "needs_background": "light"
     },
     "output_type": "display_data"
    }
   ],
   "source": [
    "show_image(train_x_tns[55000].view(28,28), cmap='Greys')"
   ]
  },
  {
   "cell_type": "code",
   "execution_count": 5,
   "id": "6938de8a-0b5e-4936-9696-cabb7bbaceff",
   "metadata": {},
   "outputs": [],
   "source": [
    "valid_x_lst = [tensor(Image.open(file)) for cat in valid_paths for file in cat.ls()]\n",
    "valid_x_tns = torch.stack(valid_x_lst)\n",
    "# change rank 3 tns to rank 2 tns so that each example is 1 row\n",
    "valid_x_tns = valid_x_tns.view(-1, 28*28)\n",
    "# normalize all greyscale values\n",
    "valid_x_tns = valid_x_tns.float()/255 "
   ]
  },
  {
   "cell_type": "code",
   "execution_count": 125,
   "id": "304f9062-d48e-4c0e-a362-44896a45a3bf",
   "metadata": {},
   "outputs": [
    {
     "data": {
      "text/plain": [
       "<AxesSubplot:>"
      ]
     },
     "execution_count": 125,
     "metadata": {},
     "output_type": "execute_result"
    },
    {
     "data": {
      "image/png": "[encoded data removed]",
      "text/plain": [
       "<Figure size 72x72 with 1 Axes>"
      ]
     },
     "metadata": {
      "needs_background": "light"
     },
     "output_type": "display_data"
    }
   ],
   "source": [
    "show_image(valid_x_tns[6000].view(28,28), cmap='Greys')"
   ]
  },
  {
   "cell_type": "code",
   "execution_count": 6,
   "id": "8242f27e-b2bf-4928-b5f6-893b690672e9",
   "metadata": {},
   "outputs": [],
   "source": [
    "train_counts = [len(cat_path.ls()) for cat_path in train_paths]\n",
    "valid_counts = [len(cat_path.ls()) for cat_path in valid_paths]"
   ]
  },
  {
   "cell_type": "code",
   "execution_count": 7,
   "id": "ecb33878-1c76-42cf-8471-b48a366b0e3e",
   "metadata": {},
   "outputs": [],
   "source": [
    "# make tensors of labels. As x is in order, labels also in order and depend only on the count \n",
    "# of examples in the folder, unsqueeze is needed to make it same rank as x\n",
    "train_y_tns = L([])\n",
    "for i, count in enumerate(train_counts):\n",
    "    train_y_tns += L([i] * count)\n",
    "train_y_tns = tensor(train_y_tns).unsqueeze(1)\n",
    "\n",
    "valid_y_tns = L([])\n",
    "for i, count in enumerate(valid_counts):\n",
    "    valid_y_tns += L([i] * count)\n",
    "valid_y_tns = tensor(valid_y_tns).unsqueeze(1)"
   ]
  },
  {
   "cell_type": "code",
   "execution_count": 8,
   "id": "c3a7290c-3efb-4913-aa1b-190ddf69f9d8",
   "metadata": {},
   "outputs": [],
   "source": [
    "train_dset = list(zip(train_x_tns, train_y_tns))\n",
    "valid_dset = list(zip(valid_x_tns, valid_y_tns))"
   ]
  },
  {
   "cell_type": "code",
   "execution_count": 25,
   "id": "8f6a5ada-dbe7-4c43-8f51-f00fd225f2fc",
   "metadata": {},
   "outputs": [],
   "source": [
    "train_dl = DataLoader(train_dset, bs=256, shuffle=True)\n",
    "valid_dl = DataLoader(valid_dset, bs=256, shuffle=True)"
   ]
  },
  {
   "cell_type": "markdown",
   "id": "e0c006f8-33de-4421-a7a3-07334acafaf8",
   "metadata": {},
   "source": [
    "#### Model"
   ]
  },
  {
   "cell_type": "code",
   "execution_count": 26,
   "id": "c3a1a08b-f36f-4188-a04d-753a82cf9f77",
   "metadata": {},
   "outputs": [],
   "source": [
    "def softmax(x):\n",
    "    x = torch.exp(x)\n",
    "    sum_exp = x.sum(dim = 1, keepdims = True)\n",
    "    return x / sum_exp"
   ]
  },
  {
   "cell_type": "code",
   "execution_count": 269,
   "id": "71ca97ee-124a-46e0-bf8f-57775e388362",
   "metadata": {},
   "outputs": [],
   "source": [
    "class TwoHLLearner:\n",
    "    \n",
    "    def __init__(self, dls, n_hs, n_cat, lr=0.3): \n",
    "        # dls - tuple of train dataloader and valid dataloader respectivly\n",
    "        # n_hs tuple neurons in hidden layer 1 and 2 respectivly\n",
    "        n_h1, n_h2 = n_hs\n",
    "        self.train_dl, self.valid_dl = dls\n",
    "        self.lr = lr\n",
    "        \n",
    "        \n",
    "        \n",
    "        # initialize all parameters of the model and save them for tuple for easy passing\n",
    "        self.w1, self.b1 = self.init_param((28*28, n_h1)), self.init_param((1, n_h1))\n",
    "        self.w2, self.b2 = self.init_param((n_h1, n_h2)), self.init_param((1, n_h2))\n",
    "        self.w3, self.b3 = self.init_param((n_h2, n_cat)), self.init_param((1))\n",
    "        self.params = self.w1, self.b1, self.w2, self.b2, self.w3, self.b3\n",
    "    \n",
    "    def init_param(self, shape, scale = 0.01): \n",
    "        return (torch.randn(shape) * scale).requires_grad_()\n",
    "    \n",
    "    def fit(self, num_epochs):\n",
    "        for i in range(num_epochs):\n",
    "            self.train_epoch()\n",
    "            \n",
    "    def train_epoch(self):\n",
    "        #print(self.w1.mean())\n",
    "        for xb, yb in self.train_dl:\n",
    "            # make prediction and get gradient of all parameters\n",
    "            pred = self.model(xb)\n",
    "            loss = self.loss_multi(pred, yb)\n",
    "            #print(yb.shape)\n",
    "            #yb = yb.view(yb.shape[0],)\n",
    "            #print(yb.shape)\n",
    "            #print(pred, yb)\n",
    "            \n",
    "            #loss = nn.CrossEntropyLoss(pred, yb)\n",
    "            loss.backward()\n",
    "            # update parameters and make sure to reset grad back to zero \n",
    "            # as grad adds up\n",
    "            for p in self.params:\n",
    "                p.data -= self.lr * p.grad\n",
    "                p.grad.zero_()\n",
    "        print(self.valid_acc(), end='% ')\n",
    "        #print(self.valid_loss())\n",
    "        \n",
    "    def model(self, xb): \n",
    "        # basic linear relu linear relu model\n",
    "        res = (xb @ self.w1 + self.b1).max(tensor(0.))\n",
    "        res = (res @ self.w2 + self.b2).max(tensor(0.))\n",
    "        res = res @ self.w3 + self.b3\n",
    "        return res\n",
    "    \n",
    "    def loss_binary(self, pred, target): \n",
    "        pred = pred.sigmoid()\n",
    "        return torch.where(target == 1, 1 - pred, pred).mean()\n",
    "    \n",
    "    def loss_multi(self, pred, target):\n",
    "        pred = softmax(pred)\n",
    "        targets = torch.zeros(pred.shape)\n",
    "        indicies = torch.arange(pred.shape[0]), target.view(target.shape[0])\n",
    "        values = torch.ones(pred.shape[0])\n",
    "        targets.index_put_(indicies, values)\n",
    "        #print(targets, pred, abs(targets - pred))\n",
    "        return abs(targets - pred).mean()\n",
    "                                \n",
    "    \n",
    "    def valid_loss(self):\n",
    "        loss = 0.\n",
    "        for xb, yb in self.valid_dl:\n",
    "            pred = self.model(xb)\n",
    "            loss += self.loss_multi(pred, yb)\n",
    "        return loss\n",
    "    \n",
    "    def valid_acc(self):\n",
    "        batch_accs = []\n",
    "        #print(first(self.valid_dl)[0][0])\n",
    "        \n",
    "        \n",
    "        for xb, yb in self.valid_dl:\n",
    "            pred = self.model(xb)\n",
    "            pred = pred.max(dim=1)[1]\n",
    "            corrects = torch.where(pred == yb.view(yb.shape[0]), 1., 0.)\n",
    "#            print(corrects.mean())\n",
    "            #pred = torch.where(sigmoid(self.model(xb)) > 0.5, 1., 0.)\n",
    "            batch_accs.append(corrects.mean())\n",
    "        return tensor(batch_accs).mean().item() * 100"
   ]
  },
  {
   "cell_type": "code",
   "execution_count": 270,
   "id": "071818c8-4a62-4afc-b547-a47306b30613",
   "metadata": {},
   "outputs": [],
   "source": [
    "learner = TwoHLLearner((train_dl, valid_dl), (32, 16), 10)"
   ]
  },
  {
   "cell_type": "code",
   "execution_count": 274,
   "id": "6be53729-0026-45e7-baad-248981e1895d",
   "metadata": {},
   "outputs": [
    {
     "name": "stdout",
     "output_type": "stream",
     "text": [
      "20.8984375% 21.201172471046448% 27.031248807907104% 29.345703125% 29.599609971046448% 29.248046875% 29.296875% 29.736328125% 29.970702528953552% 30.214843153953552% 30.126953125% 31.083983182907104% 31.308594346046448% 31.943359971046448% 32.31445252895355% 33.037108182907104% 34.326171875% 37.353515625% 38.037109375% 38.603514432907104% 43.64257752895355% 48.98437559604645% 51.85546875% 53.144532442092896% 52.851563692092896% 53.33007574081421% 53.94531488418579% 54.35546636581421% 54.25781011581421% 9.5703125% 9.716796875% 10.15625% 9.86328125% 9.716796875% 9.716796875% 9.86328125% 9.716796875% 9.86328125% 9.86328125% 9.86328125% "
     ]
    }
   ],
   "source": [
    "learner.fit(40)"
   ]
  },
  {
   "cell_type": "code",
   "execution_count": 272,
   "id": "4e87e89f-cc73-433f-b87d-4a412fab91e8",
   "metadata": {},
   "outputs": [
    {
     "data": {
      "text/plain": [
       "(torch.Size([2, 10]), tensor([1.0000, 1.0000], grad_fn=<SumBackward1>))"
      ]
     },
     "execution_count": 272,
     "metadata": {},
     "output_type": "execute_result"
    }
   ],
   "source": [
    "test = softmax(learner.model(first(train_dl)[0])[0:2])\n",
    "test.shape, test.sum(dim=1)"
   ]
  },
  {
   "cell_type": "code",
   "execution_count": 32,
   "id": "fd5a5900-fbc0-4b24-8fe3-36579614cd24",
   "metadata": {},
   "outputs": [],
   "source": [
    "targets = torch.zeros(3,4)"
   ]
  },
  {
   "cell_type": "code",
   "execution_count": 37,
   "id": "39e2e3fb-6bf2-4c19-9f4d-3fbf6b141ea6",
   "metadata": {},
   "outputs": [
    {
     "data": {
      "text/plain": [
       "3"
      ]
     },
     "execution_count": 37,
     "metadata": {},
     "output_type": "execute_result"
    }
   ],
   "source": [
    "targets.shape[0]"
   ]
  },
  {
   "cell_type": "code",
   "execution_count": 41,
   "id": "67694eb7-674a-44bb-a1e7-9ca71a751797",
   "metadata": {},
   "outputs": [
    {
     "data": {
      "text/plain": [
       "tensor([[0., 1., 0., 0.],\n",
       "        [0., 0., 1., 0.],\n",
       "        [0., 0., 1., 0.]])"
      ]
     },
     "execution_count": 41,
     "metadata": {},
     "output_type": "execute_result"
    }
   ],
   "source": [
    "indicies = torch.arange(targets.shape[0]), tensor([1,2,2])\n",
    "values = torch.ones(targets.shape[0])\n",
    "targets.index_put_(indicies, values)\n",
    "targets\n"
   ]
  },
  {
   "cell_type": "code",
   "execution_count": 25,
   "id": "c8e6e1c7-65cd-4daf-8a9a-59bd128dca95",
   "metadata": {},
   "outputs": [
    {
     "data": {
      "text/plain": [
       "tensor([[0., 1., 1., 0.],\n",
       "        [0., 1., 1., 0.],\n",
       "        [0., 1., 1., 0.]])"
      ]
     },
     "execution_count": 25,
     "metadata": {},
     "output_type": "execute_result"
    }
   ],
   "source": [
    "targets"
   ]
  },
  {
   "cell_type": "code",
   "execution_count": 15,
   "id": "64334233-a0d9-4042-9f9b-91fcee5ea21b",
   "metadata": {},
   "outputs": [],
   "source": [
    "def loss_multi(pred, target):\n",
    "        pred = softmax(pred)\n",
    "        targets = torch.zeros(pred.shape)\n",
    "        indicies = torch.arange(pred.shape[0]), target.view(target.shape[0])\n",
    "        values = torch.ones(pred.shape[0])\n",
    "        targets.index_put_(indicies, values)\n",
    "        #print(targets, pred, abs(targets - pred))\n",
    "        return abs(targets - pred).sum()"
   ]
  },
  {
   "cell_type": "code",
   "execution_count": 24,
   "id": "63d56790-4da8-4cb5-bb7a-93581423c255",
   "metadata": {},
   "outputs": [
    {
     "data": {
      "text/plain": [
       "tensor(0.3939)"
      ]
     },
     "execution_count": 24,
     "metadata": {},
     "output_type": "execute_result"
    }
   ],
   "source": [
    "loss_multi(tensor([2., 5., 1.], [4.,2.,6.]), tensor([1,2]))"
   ]
  },
  {
   "cell_type": "code",
   "execution_count": 19,
   "id": "a8fee6ad-9641-4b69-adfd-18a6cabff37f",
   "metadata": {},
   "outputs": [
    {
     "data": {
      "text/plain": [
       "tensor(1.7813)"
      ]
     },
     "execution_count": 19,
     "metadata": {},
     "output_type": "execute_result"
    }
   ],
   "source": [
    "loss_multi(tensor([2., 8., 3.], [4.,9.,7.]), tensor([1,2]))"
   ]
  },
  {
   "cell_type": "code",
   "execution_count": 104,
   "id": "58b0a124-e9d1-4457-a12e-a2a90eced1b0",
   "metadata": {},
   "outputs": [
    {
     "data": {
      "text/plain": [
       "tensor([[ 1., 10.,  1.,  1.,  1.,  1.],\n",
       "        [ 1.,  1.,  1., 12.,  1.,  1.],\n",
       "        [ 1.,  1.,  1.,  1., 15.,  1.],\n",
       "        [ 1., 18.,  1.,  1.,  1.,  1.],\n",
       "        [ 1.,  1.,  1.,  1.,  1.,  1.]])"
      ]
     },
     "execution_count": 104,
     "metadata": {},
     "output_type": "execute_result"
    }
   ],
   "source": [
    "x = torch.ones(5, 6, dtype=torch.float)\n",
    "indices = (torch.LongTensor([0, 1, 2, 3]), torch.LongTensor([1, 3, 4, 1]))\n",
    "value = torch.tensor([10, 12, 15, 18], dtype=torch.float)\n",
    "x.index_put_(indices, value)\n"
   ]
  },
  {
   "cell_type": "code",
   "execution_count": 159,
   "id": "ba45444c-b9a5-4875-a38c-fcfd3db7213f",
   "metadata": {},
   "outputs": [
    {
     "data": {
      "text/plain": [
       "torch.Size([3])"
      ]
     },
     "execution_count": 159,
     "metadata": {},
     "output_type": "execute_result"
    }
   ],
   "source": [
    "loss = nn.CrossEntropyLoss()\n",
    "input = torch.randn(3, 5, requires_grad=True)\n",
    "target = torch.empty(3, dtype=torch.long).random_(5)\n",
    "target.shape"
   ]
  },
  {
   "cell_type": "code",
   "execution_count": 155,
   "id": "714147a5-acb5-45f3-b82c-baf290c7bea7",
   "metadata": {},
   "outputs": [
    {
     "data": {
      "text/plain": [
       "(tensor([[-0.7708, -1.0873,  1.3952, -2.1117,  0.1558],\n",
       "         [ 0.1431, -0.2196, -0.4500,  1.2518, -0.5842],\n",
       "         [ 1.2101,  0.7075, -0.7269,  1.1045, -0.1766]], requires_grad=True),\n",
       " tensor([3, 4, 1]))"
      ]
     },
     "execution_count": 155,
     "metadata": {},
     "output_type": "execute_result"
    }
   ],
   "source": [
    "input, target"
   ]
  },
  {
   "cell_type": "code",
   "execution_count": null,
   "id": "7186df6c-dfc3-4942-8a90-0b809b79a5ad",
   "metadata": {},
   "outputs": [],
   "source": []
  }
 ],
 "metadata": {
  "kernelspec": {
   "display_name": "Python 3 (ipykernel)",
   "language": "python",
   "name": "python3"
  },
  "language_info": {
   "codemirror_mode": {
    "name": "ipython",
    "version": 3
   },
   "file_extension": ".py",
   "mimetype": "text/x-python",
   "name": "python",
   "nbconvert_exporter": "python",
   "pygments_lexer": "ipython3",
   "version": "3.7.4"
  }
 },
 "nbformat": 4,
 "nbformat_minor": 5
}
