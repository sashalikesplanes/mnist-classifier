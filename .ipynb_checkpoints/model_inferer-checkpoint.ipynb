{
 "cells": [
  {
   "cell_type": "markdown",
   "id": "e5358489-993d-40d7-998b-eb1468eaba09",
   "metadata": {},
   "source": [
    "# Insect Classifier\n",
    "First personal fast ai project by @sasha\n",
    "\n",
    "### Goal\n",
    "Create a simple web app where a user may upload the picture of an insect found in their house and it is classified into one of the top 5 most common household insects found in the Netherlands\n",
    "\n",
    "### This file:\n",
    "This file provides a graphical interface for interacting with the model for inference"
   ]
  },
  {
   "cell_type": "markdown",
   "id": "668a209f-adb6-486f-873f-9a920c57e6cc",
   "metadata": {},
   "source": [
    "#### Imports"
   ]
  },
  {
   "cell_type": "code",
   "execution_count": 4,
   "id": "9a163a26-2902-4e5b-bb62-034dcc27c5e2",
   "metadata": {},
   "outputs": [],
   "source": [
    "from fastbook import *\n",
    "from fastai.vision.widgets import *\n",
    "import os"
   ]
  },
  {
   "cell_type": "markdown",
   "id": "c72bb0bd-df9f-47f6-a5c5-abeba1aa94bd",
   "metadata": {},
   "source": [
    "#### Load model"
   ]
  },
  {
   "cell_type": "code",
   "execution_count": 5,
   "id": "2868276f-39d7-450a-a5d3-174df4510b4e",
   "metadata": {},
   "outputs": [],
   "source": [
    "model_inf = load_learner(Path() / \"export.pkl\")"
   ]
  },
  {
   "cell_type": "markdown",
   "id": "76893e2d-7b25-4aaa-9a8c-3a2f7f4123ed",
   "metadata": {},
   "source": [
    "#### Setup UI fields"
   ]
  },
  {
   "cell_type": "code",
   "execution_count": 25,
   "id": "69df5092-c9d7-45bc-a4e0-3dbce0b3f8ac",
   "metadata": {},
   "outputs": [],
   "source": [
    "upload = widgets.FileUpload()\n",
    "img_display = widgets.Output()\n",
    "prediction = widgets.Label()\n",
    "class_btn = widgets.Button(description = \"Classify this insect!\")"
   ]
  },
  {
   "cell_type": "markdown",
   "id": "9ea5bf5e-a1ca-4d74-899f-063e3e45fe72",
   "metadata": {},
   "source": [
    "#### Setup button click"
   ]
  },
  {
   "cell_type": "code",
   "execution_count": 26,
   "id": "f980e89c-56ee-4f60-a13c-170c44b959a5",
   "metadata": {},
   "outputs": [],
   "source": [
    "def on_click_class(change):\n",
    "    image = PILImage.create(upload.data[-1])\n",
    "    img_display.clear_output()\n",
    "    with img_display: display(image.to_thumb(128, 128))\n",
    "    pred, idx, prob = model_inf.predict(image)\n",
    "    prediction.value = f\"I am guessing this is a {pred} with a probability of: {prob[idx] * 100:.04f}% \"\n",
    "    \n",
    "class_btn.on_click(on_click_class)"
   ]
  },
  {
   "cell_type": "markdown",
   "id": "b2427d08-744e-4c92-9305-7fea90ca925a",
   "metadata": {},
   "source": [
    "#### Setup UI Box"
   ]
  },
  {
   "cell_type": "code",
   "execution_count": 27,
   "id": "f5cf2b51-bf61-41c5-91c3-e183f3f2be4e",
   "metadata": {},
   "outputs": [
    {
     "data": {
      "application/vnd.jupyter.widget-view+json": {
       "model_id": "2812493ab6b14fa79df863fdbb7078ee",
       "version_major": 2,
       "version_minor": 0
      },
      "text/plain": [
       "VBox(children=(Label(value='Lets find out what your insect is!'), FileUpload(value={}, description='Upload'), …"
      ]
     },
     "metadata": {},
     "output_type": "display_data"
    }
   ],
   "source": [
    "VBox([widgets.Label(\"Lets find out what your insect is!\"), upload, class_btn, img_display, prediction])\n"
   ]
  },
  {
   "cell_type": "code",
   "execution_count": null,
   "id": "436046b9-5838-4a42-89ac-bda6fdd7f935",
   "metadata": {},
   "outputs": [],
   "source": []
  }
 ],
 "metadata": {
  "environment": {
   "name": "pytorch-gpu.1-9.m81",
   "type": "gcloud",
   "uri": "gcr.io/deeplearning-platform-release/pytorch-gpu.1-9:m81"
  },
  "kernelspec": {
   "display_name": "Python [conda env:root] *",
   "language": "python",
   "name": "conda-root-py"
  },
  "language_info": {
   "codemirror_mode": {
    "name": "ipython",
    "version": 3
   },
   "file_extension": ".py",
   "mimetype": "text/x-python",
   "name": "python",
   "nbconvert_exporter": "python",
   "pygments_lexer": "ipython3",
   "version": "3.7.10"
  }
 },
 "nbformat": 4,
 "nbformat_minor": 5
}
