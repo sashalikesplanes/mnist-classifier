{
 "cells": [
  {
   "cell_type": "markdown",
   "id": "12235ed6-1a90-415c-a952-0d4eb3b70002",
   "metadata": {},
   "source": [
    "# MNIST Digit recognizer Demo\n",
    "Welcome to the demo of my MNIST digit recognizer model. The model is loaded from a text file of tensors which were saved by the \"mnist_full_scratch_v2.ipynb\" after several goes at training on which the model obtained 95.92% accuracy on a validation data set. Model was created from scratch by Sasha Kiselev\n",
    "\n",
    "With this webapp you are able to upload your own handwritten digit (between 0 and 9) and see how it is recognized. Please make sure to crop you picture to have it be approximatly square and for the digit to take up ~75% of the image. For best results upload a digit written in black ink on black paper.\n",
    "\n",
    "Note: as probabilities of each example are distributed over all the numbers, the network is unlikely to give a high probability even when very confident. Any probability over 40% means that the network is very confident, while around 10% it is guessing."
   ]
  },
  {
   "cell_type": "code",
   "execution_count": 58,
   "id": "32bc42bc-ee70-4091-b6bf-eccbf705a5dc",
   "metadata": {},
   "outputs": [],
   "source": [
    "# Imports\n",
    "from fastai.vision.all import *\n",
    "from fastai.vision.widgets import widgets, VBox\n",
    "from torchvision.transforms.functional import to_grayscale\n",
    "from torchvision.transforms import transforms"
   ]
  },
  {
   "cell_type": "code",
   "execution_count": 59,
   "id": "1c8ccce0-f33e-4ca1-ba22-2b42b3b141e5",
   "metadata": {},
   "outputs": [],
   "source": [
    "# Load model parameters\n",
    "params = torch.load(\"95.92%_acc_parameters.pt\")\n",
    "w1, b1, w2, b2, w3, b3 = params"
   ]
  },
  {
   "cell_type": "code",
   "execution_count": 60,
   "id": "4165f4db-5fe0-4d41-98a5-3206f1497a1c",
   "metadata": {},
   "outputs": [],
   "source": [
    "def softmax(x):\n",
    "    x = torch.exp(x)\n",
    "    sum_exp = x.sum(dim = 1, keepdims = True)\n",
    "    return x / sum_exp"
   ]
  },
  {
   "cell_type": "code",
   "execution_count": 61,
   "id": "0663dcae-3470-4b45-a2d8-b899518f0b9c",
   "metadata": {},
   "outputs": [],
   "source": [
    "def tanh(x):\n",
    "    return (torch.exp(2*x) - 1) / (torch.exp(2*x) + 1)"
   ]
  },
  {
   "cell_type": "code",
   "execution_count": 62,
   "id": "e74c383e-ead0-44f2-aabd-c62533cd9972",
   "metadata": {},
   "outputs": [],
   "source": [
    "# Setup forward prop\n",
    "def model(x):\n",
    "    # basic linear relu linear relu model\n",
    "    res = (x @ w1 + b1).max(tensor(0.))\n",
    "    res = (res @ w2 + b2).max(tensor(0.))\n",
    "    res = tanh(res @ w3 + b3) # added to prevent exploding gradients\n",
    "    return softmax(res) # softmax now added to model, as that is what we will use to guess the users digit"
   ]
  },
  {
   "cell_type": "code",
   "execution_count": 63,
   "id": "5fee8054-8bfe-4aad-91f9-a574b3f02494",
   "metadata": {},
   "outputs": [],
   "source": [
    "def digit_classifier(image):\n",
    "    img_tns = tensor(1.) - tensor(image).view(1, 28*28).float()/255\n",
    "    img_tns = ((img_tns - img_tns.mean()).max(tensor(0.)) * 5).min(tensor(1.))\n",
    "    probs = model(img_tns)\n",
    "    digit = probs.argmax().item()\n",
    "    prob = probs[:,digit].item()\n",
    "    return digit, prob, img_tns"
   ]
  },
  {
   "cell_type": "code",
   "execution_count": 64,
   "id": "1eca6746-ea72-4e6e-af33-34a7b2e309e7",
   "metadata": {},
   "outputs": [],
   "source": [
    "def greyscale_resize(image):\n",
    "    rsz = Resize(28, method='squish')\n",
    "    image = to_grayscale(image)\n",
    "    image_small = rsz(image)\n",
    "    return image_small"
   ]
  },
  {
   "cell_type": "code",
   "execution_count": 65,
   "id": "38a806bc-c4a2-4478-892d-756dc3bd2f29",
   "metadata": {},
   "outputs": [],
   "source": [
    "def tns_to_img_upscale(img_tns):\n",
    "    img = transforms.ToPILImage(mode=\"L\")(img_tns.view(28, 28))\n",
    "    rsz = Resize(256, method='squish')\n",
    "    img = rsz(img)\n",
    "    return img"
   ]
  },
  {
   "cell_type": "code",
   "execution_count": 66,
   "id": "2af0c03f-b573-4b8f-b46b-bfda873eb73c",
   "metadata": {},
   "outputs": [],
   "source": [
    "### SETUP THE USER GUI\n",
    "upload = widgets.FileUpload()\n",
    "img_display = widgets.Output()\n",
    "img_label = widgets.Label()\n",
    "prediction = widgets.Label()\n",
    "class_btn = widgets.Button(description = \"Classify my digit\")\n",
    "def on_click_class(change):\n",
    "    image = PILImage.create(upload.data[-1])\n",
    "    image_small = greyscale_resize(image)\n",
    "    digit, probability, img_tns = digit_classifier(image_small)\n",
    "    image = tns_to_img_upscale(img_tns)\n",
    "    img_display.clear_output()\n",
    "    with img_display: display(image.to_thumb(256, 256))\n",
    "    \n",
    "    #pred, idx, prob = model_inf.predict(image)\n",
    "    img_label.value = \"Here is what I see:\"\n",
    "    prediction.value = f\"I am guessing this is a {digit} with a probability of: \\\n",
    "                        {probability * 100:.02f}% \"\n",
    "    \n",
    "class_btn.on_click(on_click_class)"
   ]
  },
  {
   "cell_type": "code",
   "execution_count": 67,
   "id": "dad5b2a2-68be-42f6-8017-72f68f2a22c3",
   "metadata": {},
   "outputs": [
    {
     "data": {
      "application/vnd.jupyter.widget-view+json": {
       "model_id": "1763e332760a479fbfa6626b5d03f21d",
       "version_major": 2,
       "version_minor": 0
      },
      "text/plain": [
       "VBox(children=(Label(value='What digit did I write? Let me see!'), FileUpload(value={}, description='Upload'),…"
      ]
     },
     "metadata": {},
     "output_type": "display_data"
    }
   ],
   "source": [
    "VBox([widgets.Label(\"What digit did I write? Let me see!\"), upload, class_btn, img_label, img_display, prediction])\n"
   ]
  }
 ],
 "metadata": {
  "environment": {
   "name": "pytorch-gpu.1-9.m81",
   "type": "gcloud",
   "uri": "gcr.io/deeplearning-platform-release/pytorch-gpu.1-9:m81"
  },
  "kernelspec": {
   "display_name": "Python [conda env:root] *",
   "language": "python",
   "name": "conda-root-py"
  },
  "language_info": {
   "codemirror_mode": {
    "name": "ipython",
    "version": 3
   },
   "file_extension": ".py",
   "mimetype": "text/x-python",
   "name": "python",
   "nbconvert_exporter": "python",
   "pygments_lexer": "ipython3",
   "version": "3.7.10"
  }
 },
 "nbformat": 4,
 "nbformat_minor": 5
}
